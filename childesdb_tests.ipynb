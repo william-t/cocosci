{
 "cells": [
  {
   "cell_type": "markdown",
   "metadata": {},
   "source": [
    "Import appropriate packages:"
   ]
  },
  {
   "cell_type": "code",
   "execution_count": 57,
   "metadata": {
    "collapsed": true
   },
   "outputs": [],
   "source": [
    "import config, MySQLdb, pandas, warnings, numpy"
   ]
  },
  {
   "cell_type": "markdown",
   "metadata": {},
   "source": [
    "Establishing connection to database:"
   ]
  },
  {
   "cell_type": "code",
   "execution_count": 8,
   "metadata": {
    "collapsed": false
   },
   "outputs": [],
   "source": [
    "chompsky_authenticator = config.Authenticator('Chompsky')\n",
    "chompsky_con= MySQLdb.connect(host=chompsky_authenticator.host, \n",
    "                port=chompsky_authenticator.port,user=chompsky_authenticator.user, passwd=chompsky_authenticator.passwd, \n",
    "                db='childes')"
   ]
  },
  {
   "cell_type": "markdown",
   "metadata": {
    "collapsed": true
   },
   "source": [
    "Test #1: Ensure that the stated speaker of the word is also among the participants in that conversation. "
   ]
  },
  {
   "cell_type": "code",
   "execution_count": 126,
   "metadata": {
    "collapsed": false
   },
   "outputs": [
    {
     "name": "stdout",
     "output_type": "stream",
     "text": [
      "Test 1: PASS - All speakers are accounted for amongst conversation participants.\n"
     ]
    }
   ],
   "source": [
    "def speaker_included(num_inst):\n",
    "    people = pandas.read_sql(\"SELECT speaker, participants FROM words ORDER BY RAND() LIMIT %(num)s\", \n",
    "                             chompsky_con, params = {\"num\":num_inst})\n",
    "\n",
    "    failed = False\n",
    "    for i in range(0, len(people.index)):\n",
    "        speaker = people.ix[i, 'speaker']\n",
    "        participants = people.ix[i, 'participants']\n",
    "        if speaker not in participants:\n",
    "            warnings.warn(\"Test 1: FAIL - Recorded speaker \" + speaker + \" is not amongst conversation participants \" + participants + \".\")\n",
    "            failed = True\n",
    "\n",
    "    if not failed: print(\"Test 1: PASS - All speakers are accounted for amongst conversation participants.\")\n",
    "\n",
    "speaker_included(20)\n"
   ]
  },
  {
   "cell_type": "markdown",
   "metadata": {},
   "source": [
    "Test #2: Verify that the information recorded for each child's utterance in \"words\" is consistent with the child's information in \"children\"."
   ]
  },
  {
   "cell_type": "code",
   "execution_count": 124,
   "metadata": {
    "collapsed": false
   },
   "outputs": [
    {
     "name": "stdout",
     "output_type": "stream",
     "text": [
      "Test 2: PASS - The children's information is consistent across tables.\n"
     ]
    }
   ],
   "source": [
    "# To be resolved: Handling equality between Bloom and Bloom70.\n",
    "# To be resolved: Handling empty cells in database table. \n",
    "\n",
    "def child_verify(num_inst):\n",
    "    child_info = pandas.read_sql(\"\"\"SELECT w.child AS 'W_Child', \n",
    "                                            w.age AS 'W_Age', \n",
    "                                            w.gender AS 'W_Gender', \n",
    "                                            w.corpus AS 'W_Corpus', \n",
    "                                            c.Gender AS 'C_Gender', \n",
    "                                            c.age AS 'C_Age', \n",
    "                                            c.Corpus AS 'C_Corpus' \n",
    "                                            FROM words AS w, children AS c \n",
    "                                            WHERE w.child = c.Child AND \n",
    "                                                    w.speaker = 'CHI' AND \n",
    "                                                    w.corpus = c.corpus AND \n",
    "                                                    w.gender != '' ORDER BY RAND() LIMIT %(num)s\"\"\", \n",
    "                                chompsky_con, params = {\"num\":num_inst})\n",
    "\n",
    "    failed = False\n",
    "    for col in child_info:\n",
    "        child_info[col].replace('', numpy.nan, inplace = True)\n",
    "    child_info = child_info.dropna(subset = list(child_info))\n",
    "\n",
    "    gender_comp = child_info.loc[:, 'W_Gender'] == child_info.loc[:, 'C_Gender']\n",
    "    if not all(gender_comp.tolist()):\n",
    "        warnings.warn(\"Test 2: FAIL - The gender of a child has been misrepresented.\")\n",
    "        failed = True\n",
    "\n",
    "    for i in range(0, len(child_info.index)):\n",
    "        words_age = child_info.ix[i, 'W_Age']\n",
    "        age_range = child_info.ix[i, 'C_Age'].split('-')\n",
    "        if not float(words_age) >= float(age_range[0]) and float(words_age) <= float(age_range[1]):\n",
    "            warnings.warn(\"Test 2: FAIL - The child's age \" + str(words_age) + \" is not in the appropriate range: \" + str(age_range))\n",
    "            failed = True\n",
    "\n",
    "    if not failed: print(\"Test 2: PASS - The children's information is consistent across tables.\")\n",
    "\n",
    "child_verify(50)"
   ]
  },
  {
   "cell_type": "markdown",
   "metadata": {},
   "source": [
    "Test #3: Ensure that the word being spoken appears at some point within the gloss sentence / utterance."
   ]
  },
  {
   "cell_type": "code",
   "execution_count": 123,
   "metadata": {
    "collapsed": false
   },
   "outputs": [
    {
     "name": "stdout",
     "output_type": "stream",
     "text": [
      "Test 3: PASS - Words verified within utterances.\n"
     ]
    }
   ],
   "source": [
    "def word_in_sent(num_inst):\n",
    "    spoken_words = pandas.read_sql(\"SELECT gloss, sentgloss FROM words ORDER BY RAND() LIMIT %(num)s\", \n",
    "                                   chompsky_con, params = {\"num\":num_inst})\n",
    "\n",
    "    failed = False\n",
    "    for i in range(0, len(spoken_words.index)):\n",
    "        word = spoken_words.ix[i, 'gloss']\n",
    "        sent = spoken_words.ix[i, 'sentgloss']\n",
    "        if word not in sent:\n",
    "            warnings.warn(\"Test 3: FAIL - Word \" + word + ' not found within utterance ' + sent + '.')\n",
    "            failed = True\n",
    "\n",
    "    if not failed: print(\"Test 3: PASS - Words verified within utterances.\")\n",
    "\n",
    "word_in_sent(20)"
   ]
  },
  {
   "cell_type": "markdown",
   "metadata": {},
   "source": [
    "Test #4: Check that searching the same utterance number returns the same utterance for a child."
   ]
  },
  {
   "cell_type": "code",
   "execution_count": 127,
   "metadata": {
    "collapsed": false
   },
   "outputs": [
    {
     "name": "stdout",
     "output_type": "stream",
     "text": [
      "Test 4: PASS - All utterances corresponding to these parameters were identical.\n"
     ]
    }
   ],
   "source": [
    "def num_to_utter(id, child, age):\n",
    "    corres_words = pandas.read_sql(\"SELECT sentgloss FROM words WHERE utt_number = %(id)s AND child = %(child)s AND age = %(age)s\", \n",
    "                                   chompsky_con, params = {\"id\": id, \"child\":child, \"age\":age})\n",
    "    corres_words = corres_words.loc[:, \"sentgloss\"].tolist()\n",
    "    if corres_words[1:] != corres_words[:-1]:\n",
    "        warnings.warn(\"Test 4: FAIL - The given parameters returned the following different utterances:\")\n",
    "        print(corres_words)\n",
    "    else:\n",
    "        print(\"Test 4: PASS - All utterances corresponding to these parameters were identical.\")\n",
    "\n",
    "num_to_utter(4, \"Eric\", 613)"
   ]
  },
  {
   "cell_type": "markdown",
   "metadata": {},
   "source": [
    "Test #5: Verify that basic \"gloss\" words have been translated to the proper corresponding \"mor\" structure."
   ]
  },
  {
   "cell_type": "code",
   "execution_count": 130,
   "metadata": {
    "collapsed": false
   },
   "outputs": [],
   "source": [
    "# To be resolved: Handling Nonetypes amongst \"mor\" structures.\n",
    "def gloss_check(dict):\n",
    "    keys = tuple(dict.keys())\n",
    "    basic_words = pandas.read_sql(\"SELECT gloss, mor FROM words WHERE gloss IN %(keys)s\", \n",
    "                                  chompsky_con, params = {\"keys\":keys})\n",
    "    words = basic_words.loc[:, \"gloss\"].tolist()\n",
    "    struct = basic_words.loc[:, \"mor\"].tolist()\n",
    "    incorrect_words = []\n",
    "    for i in range(0, len(words)):\n",
    "        if dict[words[i]] != struct[i]:\n",
    "            if struct[i] == None:\n",
    "                incorrect_words.append([words[i], \"\", dict[words[i]]])\n",
    "            else:\n",
    "                incorrect_words.append([words[i], struct[i], dict[words[i]]])\n",
    "            \n",
    "    if incorrect_words != []:\n",
    "        warnings.warn(\"Test 5: FAIL - The following word, structure pairing failed to match the provided mapping:\")\n",
    "        for set in incorrect_words:\n",
    "#             print(\"Word: \" + set[0] + \", Structure: \" + set[1] + \", Correct Structure: \" + set[2])\n",
    "    else:\n",
    "        print(\"Test 5: PASS - The basic set of words provided all matched the required structure.\")\n",
    "\n",
    "# gloss_check({\"it\":\"pro|it\", \"It\":\"n:prop|It\"})\n",
    "# gloss_check({\"a\":\"art|a\", \"A\":\"n:prop|A\"})"
   ]
  },
  {
   "cell_type": "markdown",
   "metadata": {},
   "source": [
    "Final Test Suite"
   ]
  },
  {
   "cell_type": "code",
   "execution_count": null,
   "metadata": {
    "collapsed": false
   },
   "outputs": [],
   "source": [
    "# Test 1\n",
    "speaker_included(20)\n",
    "\n",
    "# Test 2\n",
    "child_verify(50)\n",
    "\n",
    "# Test 3\n",
    "word_in_sent(20)\n",
    "\n",
    "# Test 4\n",
    "num_to_utter(4, \"Eric\", 613)\n",
    "\n",
    "# Test 5\n",
    "gloss_check({\"a\":\"art|a\", \"A\":\"n:prop|A\"})"
   ]
  },
  {
   "cell_type": "code",
   "execution_count": null,
   "metadata": {
    "collapsed": true
   },
   "outputs": [],
   "source": []
  }
 ],
 "metadata": {
  "kernelspec": {
   "display_name": "Python 2",
   "language": "python",
   "name": "python2"
  },
  "language_info": {
   "codemirror_mode": {
    "name": "ipython",
    "version": 2
   },
   "file_extension": ".py",
   "mimetype": "text/x-python",
   "name": "python",
   "nbconvert_exporter": "python",
   "pygments_lexer": "ipython2",
   "version": "2.7.6"
  }
 },
 "nbformat": 4,
 "nbformat_minor": 0
}
